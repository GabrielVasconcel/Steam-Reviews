{
 "cells": [
  {
   "cell_type": "markdown",
   "metadata": {
    "id": "mz_jAnkfan6v"
   },
   "source": [
    "Classificador de reviews de jogos da steam.\n",
    "\n",
    "As reviews são compostas por texto e um label ("
   ]
  },
  {
   "cell_type": "code",
   "execution_count": 3,
   "metadata": {
    "executionInfo": {
     "elapsed": 1078,
     "status": "ok",
     "timestamp": 1708619605047,
     "user": {
      "displayName": "Gabriel Henrique Vasconcelos",
      "userId": "05872324079780801662"
     },
     "user_tz": 180
    },
    "id": "Khc1WWyDA0Yd"
   },
   "outputs": [],
   "source": [
    "import pandas as pd\n",
    "from matplotlib import pyplot as plt"
   ]
  },
  {
   "cell_type": "markdown",
   "metadata": {
    "id": "Uj0fOrOuNLsp"
   },
   "source": [
    "# Limpando o Dataset"
   ]
  },
  {
   "cell_type": "markdown",
   "metadata": {
    "id": "x5xUquYOQk_b"
   },
   "source": [
    "Carregando os dados"
   ]
  },
  {
   "cell_type": "code",
   "execution_count": 4,
   "metadata": {
    "executionInfo": {
     "elapsed": 39667,
     "status": "ok",
     "timestamp": 1708619644709,
     "user": {
      "displayName": "Gabriel Henrique Vasconcelos",
      "userId": "05872324079780801662"
     },
     "user_tz": 180
    },
    "id": "Wi9-aKcLPifr"
   },
   "outputs": [],
   "source": [
    "df = pd.read_csv('SteamReviews.csv')"
   ]
  },
  {
   "cell_type": "code",
   "execution_count": 5,
   "metadata": {
    "colab": {
     "base_uri": "https://localhost:8080/",
     "height": 300
    },
    "executionInfo": {
     "elapsed": 928,
     "status": "ok",
     "timestamp": 1708619645628,
     "user": {
      "displayName": "Gabriel Henrique Vasconcelos",
      "userId": "05872324079780801662"
     },
     "user_tz": 180
    },
    "id": "ARnRXsxGD77I",
    "outputId": "ce7efe56-07dd-4dfe-df33-b36f09eb912f"
   },
   "outputs": [
    {
     "data": {
      "text/html": [
       "<div>\n",
       "<style scoped>\n",
       "    .dataframe tbody tr th:only-of-type {\n",
       "        vertical-align: middle;\n",
       "    }\n",
       "\n",
       "    .dataframe tbody tr th {\n",
       "        vertical-align: top;\n",
       "    }\n",
       "\n",
       "    .dataframe thead th {\n",
       "        text-align: right;\n",
       "    }\n",
       "</style>\n",
       "<table border=\"1\" class=\"dataframe\">\n",
       "  <thead>\n",
       "    <tr style=\"text-align: right;\">\n",
       "      <th></th>\n",
       "      <th>app_id</th>\n",
       "      <th>review_score</th>\n",
       "      <th>review_votes</th>\n",
       "    </tr>\n",
       "  </thead>\n",
       "  <tbody>\n",
       "    <tr>\n",
       "      <th>count</th>\n",
       "      <td>6.417106e+06</td>\n",
       "      <td>6.417106e+06</td>\n",
       "      <td>6.417106e+06</td>\n",
       "    </tr>\n",
       "    <tr>\n",
       "      <th>mean</th>\n",
       "      <td>2.274695e+05</td>\n",
       "      <td>6.394992e-01</td>\n",
       "      <td>1.472446e-01</td>\n",
       "    </tr>\n",
       "    <tr>\n",
       "      <th>std</th>\n",
       "      <td>1.260451e+05</td>\n",
       "      <td>7.687918e-01</td>\n",
       "      <td>3.543496e-01</td>\n",
       "    </tr>\n",
       "    <tr>\n",
       "      <th>min</th>\n",
       "      <td>1.000000e+01</td>\n",
       "      <td>-1.000000e+00</td>\n",
       "      <td>0.000000e+00</td>\n",
       "    </tr>\n",
       "    <tr>\n",
       "      <th>25%</th>\n",
       "      <td>2.018100e+05</td>\n",
       "      <td>1.000000e+00</td>\n",
       "      <td>0.000000e+00</td>\n",
       "    </tr>\n",
       "    <tr>\n",
       "      <th>50%</th>\n",
       "      <td>2.391600e+05</td>\n",
       "      <td>1.000000e+00</td>\n",
       "      <td>0.000000e+00</td>\n",
       "    </tr>\n",
       "    <tr>\n",
       "      <th>75%</th>\n",
       "      <td>3.056200e+05</td>\n",
       "      <td>1.000000e+00</td>\n",
       "      <td>0.000000e+00</td>\n",
       "    </tr>\n",
       "    <tr>\n",
       "      <th>max</th>\n",
       "      <td>5.653400e+05</td>\n",
       "      <td>1.000000e+00</td>\n",
       "      <td>1.000000e+00</td>\n",
       "    </tr>\n",
       "  </tbody>\n",
       "</table>\n",
       "</div>"
      ],
      "text/plain": [
       "             app_id  review_score  review_votes\n",
       "count  6.417106e+06  6.417106e+06  6.417106e+06\n",
       "mean   2.274695e+05  6.394992e-01  1.472446e-01\n",
       "std    1.260451e+05  7.687918e-01  3.543496e-01\n",
       "min    1.000000e+01 -1.000000e+00  0.000000e+00\n",
       "25%    2.018100e+05  1.000000e+00  0.000000e+00\n",
       "50%    2.391600e+05  1.000000e+00  0.000000e+00\n",
       "75%    3.056200e+05  1.000000e+00  0.000000e+00\n",
       "max    5.653400e+05  1.000000e+00  1.000000e+00"
      ]
     },
     "execution_count": 5,
     "metadata": {},
     "output_type": "execute_result"
    }
   ],
   "source": [
    "df.describe()"
   ]
  },
  {
   "cell_type": "markdown",
   "metadata": {
    "id": "ENV2ETO8ga37"
   },
   "source": [
    "Escolhendo uma amostra do dataset"
   ]
  },
  {
   "cell_type": "code",
   "execution_count": 6,
   "metadata": {
    "executionInfo": {
     "elapsed": 59,
     "status": "ok",
     "timestamp": 1708619645629,
     "user": {
      "displayName": "Gabriel Henrique Vasconcelos",
      "userId": "05872324079780801662"
     },
     "user_tz": 180
    },
    "id": "mWC4ZYoJgEOl"
   },
   "outputs": [],
   "source": [
    "df = df.sample(n = 5000)"
   ]
  },
  {
   "cell_type": "code",
   "execution_count": 7,
   "metadata": {
    "executionInfo": {
     "elapsed": 62,
     "status": "ok",
     "timestamp": 1708619645633,
     "user": {
      "displayName": "Gabriel Henrique Vasconcelos",
      "userId": "05872324079780801662"
     },
     "user_tz": 180
    },
    "id": "xIYJqQKoqfNS"
   },
   "outputs": [],
   "source": [
    "df = df[['review_text', 'review_score']]"
   ]
  },
  {
   "cell_type": "markdown",
   "metadata": {
    "id": "_EYWUEgg-r_v"
   },
   "source": [
    "Checando elementos duplicados"
   ]
  },
  {
   "cell_type": "code",
   "execution_count": 8,
   "metadata": {
    "colab": {
     "base_uri": "https://localhost:8080/"
    },
    "executionInfo": {
     "elapsed": 62,
     "status": "ok",
     "timestamp": 1708619645634,
     "user": {
      "displayName": "Gabriel Henrique Vasconcelos",
      "userId": "05872324079780801662"
     },
     "user_tz": 180
    },
    "id": "uBCT0NKwqfni",
    "outputId": "59daba43-4d6f-44b0-f044-72484ed868f8"
   },
   "outputs": [
    {
     "data": {
      "text/plain": [
       "835"
      ]
     },
     "execution_count": 8,
     "metadata": {},
     "output_type": "execute_result"
    }
   ],
   "source": [
    "df.duplicated().sum()"
   ]
  },
  {
   "cell_type": "markdown",
   "metadata": {
    "id": "G5a68YB4-wPe"
   },
   "source": [
    "Removendo duplicatas"
   ]
  },
  {
   "cell_type": "code",
   "execution_count": 9,
   "metadata": {
    "executionInfo": {
     "elapsed": 56,
     "status": "ok",
     "timestamp": 1708619645635,
     "user": {
      "displayName": "Gabriel Henrique Vasconcelos",
      "userId": "05872324079780801662"
     },
     "user_tz": 180
    },
    "id": "2019bSa8qfrB"
   },
   "outputs": [],
   "source": [
    "df.drop_duplicates(inplace=True)"
   ]
  },
  {
   "cell_type": "markdown",
   "metadata": {
    "id": "bTQ3oS50-yg1"
   },
   "source": [
    "Renomeando colunas"
   ]
  },
  {
   "cell_type": "code",
   "execution_count": 10,
   "metadata": {
    "executionInfo": {
     "elapsed": 55,
     "status": "ok",
     "timestamp": 1708619645635,
     "user": {
      "displayName": "Gabriel Henrique Vasconcelos",
      "userId": "05872324079780801662"
     },
     "user_tz": 180
    },
    "id": "dH2fUmDWqfwA"
   },
   "outputs": [],
   "source": [
    "df.rename(columns={'review_text':'text', 'review_score':'target'}, inplace=True)"
   ]
  },
  {
   "cell_type": "code",
   "execution_count": 11,
   "metadata": {
    "colab": {
     "base_uri": "https://localhost:8080/",
     "height": 423
    },
    "executionInfo": {
     "elapsed": 55,
     "status": "ok",
     "timestamp": 1708619645636,
     "user": {
      "displayName": "Gabriel Henrique Vasconcelos",
      "userId": "05872324079780801662"
     },
     "user_tz": 180
    },
    "id": "On1nPn43rQ8Z",
    "outputId": "1972f94e-a9be-4e10-d891-59be9db0027e"
   },
   "outputs": [
    {
     "data": {
      "text/html": [
       "<div>\n",
       "<style scoped>\n",
       "    .dataframe tbody tr th:only-of-type {\n",
       "        vertical-align: middle;\n",
       "    }\n",
       "\n",
       "    .dataframe tbody tr th {\n",
       "        vertical-align: top;\n",
       "    }\n",
       "\n",
       "    .dataframe thead th {\n",
       "        text-align: right;\n",
       "    }\n",
       "</style>\n",
       "<table border=\"1\" class=\"dataframe\">\n",
       "  <thead>\n",
       "    <tr style=\"text-align: right;\">\n",
       "      <th></th>\n",
       "      <th>text</th>\n",
       "      <th>target</th>\n",
       "    </tr>\n",
       "  </thead>\n",
       "  <tbody>\n",
       "    <tr>\n",
       "      <th>1086545</th>\n",
       "      <td>Fun and very colorful</td>\n",
       "      <td>1</td>\n",
       "    </tr>\n",
       "    <tr>\n",
       "      <th>2082368</th>\n",
       "      <td>Best PC platforming-sidescroller of the centur...</td>\n",
       "      <td>1</td>\n",
       "    </tr>\n",
       "    <tr>\n",
       "      <th>2741153</th>\n",
       "      <td>Early Access Review</td>\n",
       "      <td>1</td>\n",
       "    </tr>\n",
       "    <tr>\n",
       "      <th>5795239</th>\n",
       "      <td>Epic siege battles and land battles, fixed alm...</td>\n",
       "      <td>1</td>\n",
       "    </tr>\n",
       "    <tr>\n",
       "      <th>3401389</th>\n",
       "      <td>Very few games take me back to my Super NES da...</td>\n",
       "      <td>1</td>\n",
       "    </tr>\n",
       "    <tr>\n",
       "      <th>...</th>\n",
       "      <td>...</td>\n",
       "      <td>...</td>\n",
       "    </tr>\n",
       "    <tr>\n",
       "      <th>4697904</th>\n",
       "      <td>https://youtu.be/pe14MQEL5LU   Has science go...</td>\n",
       "      <td>1</td>\n",
       "    </tr>\n",
       "    <tr>\n",
       "      <th>1446768</th>\n",
       "      <td>wololo 10/10 would convert again</td>\n",
       "      <td>1</td>\n",
       "    </tr>\n",
       "    <tr>\n",
       "      <th>3062769</th>\n",
       "      <td>this game is fun now i can play turbo dismount...</td>\n",
       "      <td>1</td>\n",
       "    </tr>\n",
       "    <tr>\n",
       "      <th>826517</th>\n",
       "      <td>Hey buddy, would you like to play a dead call ...</td>\n",
       "      <td>1</td>\n",
       "    </tr>\n",
       "    <tr>\n",
       "      <th>3134292</th>\n",
       "      <td>It's certainly a great parody of the plethora ...</td>\n",
       "      <td>1</td>\n",
       "    </tr>\n",
       "  </tbody>\n",
       "</table>\n",
       "<p>4165 rows × 2 columns</p>\n",
       "</div>"
      ],
      "text/plain": [
       "                                                      text  target\n",
       "1086545                              Fun and very colorful       1\n",
       "2082368  Best PC platforming-sidescroller of the centur...       1\n",
       "2741153                                Early Access Review       1\n",
       "5795239  Epic siege battles and land battles, fixed alm...       1\n",
       "3401389  Very few games take me back to my Super NES da...       1\n",
       "...                                                    ...     ...\n",
       "4697904   https://youtu.be/pe14MQEL5LU   Has science go...       1\n",
       "1446768                   wololo 10/10 would convert again       1\n",
       "3062769  this game is fun now i can play turbo dismount...       1\n",
       "826517   Hey buddy, would you like to play a dead call ...       1\n",
       "3134292  It's certainly a great parody of the plethora ...       1\n",
       "\n",
       "[4165 rows x 2 columns]"
      ]
     },
     "execution_count": 11,
     "metadata": {},
     "output_type": "execute_result"
    }
   ],
   "source": [
    "df"
   ]
  },
  {
   "cell_type": "code",
   "execution_count": 12,
   "metadata": {
    "executionInfo": {
     "elapsed": 53,
     "status": "ok",
     "timestamp": 1708619645636,
     "user": {
      "displayName": "Gabriel Henrique Vasconcelos",
      "userId": "05872324079780801662"
     },
     "user_tz": 180
    },
    "id": "fLYHHUNdrRSC"
   },
   "outputs": [],
   "source": [
    "df.reset_index(drop=True, inplace=True)"
   ]
  },
  {
   "cell_type": "markdown",
   "metadata": {
    "id": "MQR0ycbN023q"
   },
   "source": [
    "## Removendo valores faltantes"
   ]
  },
  {
   "cell_type": "code",
   "execution_count": 13,
   "metadata": {
    "colab": {
     "base_uri": "https://localhost:8080/"
    },
    "executionInfo": {
     "elapsed": 53,
     "status": "ok",
     "timestamp": 1708619645637,
     "user": {
      "displayName": "Gabriel Henrique Vasconcelos",
      "userId": "05872324079780801662"
     },
     "user_tz": 180
    },
    "id": "cEfKgFJC0Ypw",
    "outputId": "e77f43db-5164-4296-d93c-2aadc0b4b7e6"
   },
   "outputs": [
    {
     "data": {
      "text/plain": [
       "text      2\n",
       "target    0\n",
       "dtype: int64"
      ]
     },
     "execution_count": 13,
     "metadata": {},
     "output_type": "execute_result"
    }
   ],
   "source": [
    "missing_values = df.isna().sum()\n",
    "missing_values"
   ]
  },
  {
   "cell_type": "code",
   "execution_count": 14,
   "metadata": {
    "executionInfo": {
     "elapsed": 50,
     "status": "ok",
     "timestamp": 1708619645637,
     "user": {
      "displayName": "Gabriel Henrique Vasconcelos",
      "userId": "05872324079780801662"
     },
     "user_tz": 180
    },
    "id": "6jHf7iQG0pc5"
   },
   "outputs": [],
   "source": [
    "df.dropna(inplace=True)"
   ]
  },
  {
   "cell_type": "code",
   "execution_count": 15,
   "metadata": {
    "colab": {
     "base_uri": "https://localhost:8080/"
    },
    "executionInfo": {
     "elapsed": 49,
     "status": "ok",
     "timestamp": 1708619645637,
     "user": {
      "displayName": "Gabriel Henrique Vasconcelos",
      "userId": "05872324079780801662"
     },
     "user_tz": 180
    },
    "id": "C537pbaT0plC",
    "outputId": "a809edf8-8bb7-426a-b0ff-1a6e6816dd11"
   },
   "outputs": [
    {
     "data": {
      "text/plain": [
       "text      0\n",
       "target    0\n",
       "dtype: int64"
      ]
     },
     "execution_count": 15,
     "metadata": {},
     "output_type": "execute_result"
    }
   ],
   "source": [
    "missing_values = df.isna().sum()\n",
    "missing_values"
   ]
  },
  {
   "cell_type": "markdown",
   "metadata": {
    "id": "dj_3yuyEBXNr"
   },
   "source": [
    "## Mudando de rótulos -1 e +1 para 0 e 1"
   ]
  },
  {
   "cell_type": "code",
   "execution_count": 16,
   "metadata": {
    "colab": {
     "base_uri": "https://localhost:8080/"
    },
    "executionInfo": {
     "elapsed": 47,
     "status": "ok",
     "timestamp": 1708619645638,
     "user": {
      "displayName": "Gabriel Henrique Vasconcelos",
      "userId": "05872324079780801662"
     },
     "user_tz": 180
    },
    "id": "I-08mi7fBtEs",
    "outputId": "674582ad-ed01-4c43-98f6-1ff097293e32"
   },
   "outputs": [
    {
     "data": {
      "text/plain": [
       "array([ 1, -1], dtype=int64)"
      ]
     },
     "execution_count": 16,
     "metadata": {},
     "output_type": "execute_result"
    }
   ],
   "source": [
    "df[\"target\"].unique()"
   ]
  },
  {
   "cell_type": "code",
   "execution_count": 17,
   "metadata": {
    "executionInfo": {
     "elapsed": 43,
     "status": "ok",
     "timestamp": 1708619645638,
     "user": {
      "displayName": "Gabriel Henrique Vasconcelos",
      "userId": "05872324079780801662"
     },
     "user_tz": 180
    },
    "id": "G_BzK9OQBtOc"
   },
   "outputs": [],
   "source": [
    "df[\"target\"] = df[\"target\"].replace({-1:0, 1: 1})"
   ]
  },
  {
   "cell_type": "markdown",
   "metadata": {
    "id": "P2xL374qPKRC"
   },
   "source": [
    "# Pré Processamento"
   ]
  },
  {
   "cell_type": "markdown",
   "metadata": {
    "id": "QqEqTIdl_JuG"
   },
   "source": [
    "Imports"
   ]
  },
  {
   "cell_type": "code",
   "execution_count": 18,
   "metadata": {
    "colab": {
     "base_uri": "https://localhost:8080/"
    },
    "executionInfo": {
     "elapsed": 3065,
     "status": "ok",
     "timestamp": 1708619648661,
     "user": {
      "displayName": "Gabriel Henrique Vasconcelos",
      "userId": "05872324079780801662"
     },
     "user_tz": 180
    },
    "id": "RT8mmTYVVzdS",
    "outputId": "f87beed7-1c06-457e-8e36-aae5114890e5"
   },
   "outputs": [
    {
     "name": "stderr",
     "output_type": "stream",
     "text": [
      "[nltk_data] Downloading package punkt to\n",
      "[nltk_data]     C:\\Users\\Usuário\\AppData\\Roaming\\nltk_data...\n",
      "[nltk_data]   Unzipping tokenizers\\punkt.zip.\n",
      "[nltk_data] Downloading package stopwords to\n",
      "[nltk_data]     C:\\Users\\Usuário\\AppData\\Roaming\\nltk_data...\n",
      "[nltk_data]   Unzipping corpora\\stopwords.zip.\n"
     ]
    }
   ],
   "source": [
    "import nltk\n",
    "nltk.download('punkt')\n",
    "nltk.download('stopwords')\n",
    "from nltk.corpus import stopwords\n",
    "import string\n",
    "from nltk.stem.porter import PorterStemmer\n",
    "ps = PorterStemmer()"
   ]
  },
  {
   "cell_type": "markdown",
   "metadata": {
    "id": "wZWafa1t_NNe"
   },
   "source": [
    "Definindo função de conversão de texto:\n",
    "\n",
    "Torna mínusculas, tokenizadas, PorterStemmer e sem stopwords e pontuações"
   ]
  },
  {
   "cell_type": "code",
   "execution_count": 19,
   "metadata": {
    "executionInfo": {
     "elapsed": 11,
     "status": "ok",
     "timestamp": 1708619648663,
     "user": {
      "displayName": "Gabriel Henrique Vasconcelos",
      "userId": "05872324079780801662"
     },
     "user_tz": 180
    },
    "id": "AcixwiNoQSpr"
   },
   "outputs": [],
   "source": [
    "def convert_text(text):\n",
    "  text = text.lower()\n",
    "  text = nltk.word_tokenize(text)\n",
    "\n",
    "  x = []\n",
    "  y = []\n",
    "\n",
    "  for i in text:\n",
    "    if i not in stopwords.words('english') and i not in string.punctuation:\n",
    "      x.append(i)\n",
    "  for i in x:\n",
    "    y.append(ps.stem(i))\n",
    "  return ' '.join(y)"
   ]
  },
  {
   "cell_type": "code",
   "execution_count": 20,
   "metadata": {
    "executionInfo": {
     "elapsed": 35102,
     "status": "ok",
     "timestamp": 1708619683754,
     "user": {
      "displayName": "Gabriel Henrique Vasconcelos",
      "userId": "05872324079780801662"
     },
     "user_tz": 180
    },
    "id": "9ijPiDJKV-vh"
   },
   "outputs": [],
   "source": [
    "df['converted_text'] = df['text'].apply(convert_text)"
   ]
  },
  {
   "cell_type": "code",
   "execution_count": 21,
   "metadata": {
    "colab": {
     "base_uri": "https://localhost:8080/"
    },
    "executionInfo": {
     "elapsed": 52,
     "status": "ok",
     "timestamp": 1708619683754,
     "user": {
      "displayName": "Gabriel Henrique Vasconcelos",
      "userId": "05872324079780801662"
     },
     "user_tz": 180
    },
    "id": "WCNEdwPGXvQt",
    "outputId": "e587e2f3-bff5-4edf-ac5a-51ce188f2ae9"
   },
   "outputs": [
    {
     "data": {
      "text/plain": [
       "0                                               fun color\n",
       "1       best pc platforming-sidescrol centuri buy even...\n",
       "2                                     earli access review\n",
       "3       epic sieg battl land battl fix almost problem ...\n",
       "4       game take back super ne day titl almost flawle...\n",
       "                              ...                        \n",
       "4160    http //youtu.be/pe14mqel5lu scienc gone far in...\n",
       "4161                           wololo 10/10 would convert\n",
       "4162    game fun play turbo dismount comput laptop pad...\n",
       "4163    hey buddi would like play dead call duti repli...\n",
       "4164    's certainli great parodi plethora simul game ...\n",
       "Name: converted_text, Length: 4163, dtype: object"
      ]
     },
     "execution_count": 21,
     "metadata": {},
     "output_type": "execute_result"
    }
   ],
   "source": [
    "df['converted_text']"
   ]
  },
  {
   "cell_type": "markdown",
   "metadata": {
    "id": "E-5OcUzi07Hd"
   },
   "source": [
    "## Aplicando vetorizador\n",
    "Contador de palavras"
   ]
  },
  {
   "cell_type": "code",
   "execution_count": 22,
   "metadata": {
    "executionInfo": {
     "elapsed": 25,
     "status": "ok",
     "timestamp": 1708619683755,
     "user": {
      "displayName": "Gabriel Henrique Vasconcelos",
      "userId": "05872324079780801662"
     },
     "user_tz": 180
    },
    "id": "RHQVyPzi3ijf"
   },
   "outputs": [],
   "source": [
    "target = df.target"
   ]
  },
  {
   "cell_type": "code",
   "execution_count": 23,
   "metadata": {
    "executionInfo": {
     "elapsed": 25,
     "status": "ok",
     "timestamp": 1708619683755,
     "user": {
      "displayName": "Gabriel Henrique Vasconcelos",
      "userId": "05872324079780801662"
     },
     "user_tz": 180
    },
    "id": "4MYuiNIP1NzQ"
   },
   "outputs": [],
   "source": [
    "reviews = df.converted_text"
   ]
  },
  {
   "cell_type": "code",
   "execution_count": 24,
   "metadata": {
    "executionInfo": {
     "elapsed": 24,
     "status": "ok",
     "timestamp": 1708619683755,
     "user": {
      "displayName": "Gabriel Henrique Vasconcelos",
      "userId": "05872324079780801662"
     },
     "user_tz": 180
    },
    "id": "KTAPPS986DZZ"
   },
   "outputs": [],
   "source": [
    "from sklearn.feature_extraction.text import CountVectorizer\n",
    "count_vect = CountVectorizer()"
   ]
  },
  {
   "cell_type": "code",
   "execution_count": 25,
   "metadata": {
    "executionInfo": {
     "elapsed": 24,
     "status": "ok",
     "timestamp": 1708619683755,
     "user": {
      "displayName": "Gabriel Henrique Vasconcelos",
      "userId": "05872324079780801662"
     },
     "user_tz": 180
    },
    "id": "yKsqDiVQx_Eq"
   },
   "outputs": [],
   "source": [
    "X_train_counts = count_vect.fit_transform(reviews)"
   ]
  },
  {
   "cell_type": "code",
   "execution_count": 26,
   "metadata": {
    "colab": {
     "base_uri": "https://localhost:8080/"
    },
    "executionInfo": {
     "elapsed": 24,
     "status": "ok",
     "timestamp": 1708619683756,
     "user": {
      "displayName": "Gabriel Henrique Vasconcelos",
      "userId": "05872324079780801662"
     },
     "user_tz": 180
    },
    "id": "XGivGWT-yB9w",
    "outputId": "aee57037-84a8-45b0-c1a1-c55a3c2a7b54"
   },
   "outputs": [
    {
     "data": {
      "text/plain": [
       "<4163x11524 sparse matrix of type '<class 'numpy.int64'>'\n",
       "\twith 117077 stored elements in Compressed Sparse Row format>"
      ]
     },
     "execution_count": 26,
     "metadata": {},
     "output_type": "execute_result"
    }
   ],
   "source": [
    "X_train_counts"
   ]
  },
  {
   "cell_type": "markdown",
   "metadata": {
    "id": "d8DdyZCH7lfK"
   },
   "source": [
    "## Transformando em tf-idf\n",
    "Destacar palavras-chave e reduzir o peso de palavras comuns que aparecem em muitos documentos"
   ]
  },
  {
   "cell_type": "code",
   "execution_count": 27,
   "metadata": {
    "executionInfo": {
     "elapsed": 19,
     "status": "ok",
     "timestamp": 1708619683756,
     "user": {
      "displayName": "Gabriel Henrique Vasconcelos",
      "userId": "05872324079780801662"
     },
     "user_tz": 180
    },
    "id": "HsxzV_tE3WMv"
   },
   "outputs": [],
   "source": [
    "from sklearn.feature_extraction.text import TfidfTransformer"
   ]
  },
  {
   "cell_type": "code",
   "execution_count": 28,
   "metadata": {
    "executionInfo": {
     "elapsed": 19,
     "status": "ok",
     "timestamp": 1708619683756,
     "user": {
      "displayName": "Gabriel Henrique Vasconcelos",
      "userId": "05872324079780801662"
     },
     "user_tz": 180
    },
    "id": "X8xcr3KT5-6E"
   },
   "outputs": [],
   "source": [
    "tfidf_transformer = TfidfTransformer()"
   ]
  },
  {
   "cell_type": "code",
   "execution_count": 29,
   "metadata": {
    "executionInfo": {
     "elapsed": 19,
     "status": "ok",
     "timestamp": 1708619683757,
     "user": {
      "displayName": "Gabriel Henrique Vasconcelos",
      "userId": "05872324079780801662"
     },
     "user_tz": 180
    },
    "id": "FJTLUr2K6EvC"
   },
   "outputs": [],
   "source": [
    "X_train_tfidf = tfidf_transformer.fit_transform(X_train_counts)"
   ]
  },
  {
   "cell_type": "markdown",
   "metadata": {
    "id": "NAmkdZzkPPgc"
   },
   "source": [
    "# Modelo"
   ]
  },
  {
   "cell_type": "markdown",
   "metadata": {
    "id": "7FS44zRJlRlw"
   },
   "source": [
    "Multinomial Naive-Bayes"
   ]
  },
  {
   "cell_type": "markdown",
   "metadata": {
    "id": "vabEChIu7JpG"
   },
   "source": [
    "## Classificador"
   ]
  },
  {
   "cell_type": "code",
   "execution_count": 30,
   "metadata": {
    "executionInfo": {
     "elapsed": 19,
     "status": "ok",
     "timestamp": 1708619683757,
     "user": {
      "displayName": "Gabriel Henrique Vasconcelos",
      "userId": "05872324079780801662"
     },
     "user_tz": 180
    },
    "id": "83DO97_Zjsdc"
   },
   "outputs": [],
   "source": [
    "from sklearn.naive_bayes import MultinomialNB"
   ]
  },
  {
   "cell_type": "code",
   "execution_count": 31,
   "metadata": {
    "executionInfo": {
     "elapsed": 18,
     "status": "ok",
     "timestamp": 1708619683757,
     "user": {
      "displayName": "Gabriel Henrique Vasconcelos",
      "userId": "05872324079780801662"
     },
     "user_tz": 180
    },
    "id": "227UAzcm5qw1"
   },
   "outputs": [],
   "source": [
    "clf = MultinomialNB()"
   ]
  },
  {
   "cell_type": "markdown",
   "metadata": {
    "id": "_lmRk885-K8T"
   },
   "source": [
    "## Teste"
   ]
  },
  {
   "cell_type": "code",
   "execution_count": 32,
   "metadata": {
    "executionInfo": {
     "elapsed": 18,
     "status": "ok",
     "timestamp": 1708619683757,
     "user": {
      "displayName": "Gabriel Henrique Vasconcelos",
      "userId": "05872324079780801662"
     },
     "user_tz": 180
    },
    "id": "wc7LqSvSptUo"
   },
   "outputs": [],
   "source": [
    "from sklearn.model_selection import train_test_split\n",
    "X_train, X_test, y_train, y_test = train_test_split(X_train_tfidf, target, test_size=0.2, random_state=34)"
   ]
  },
  {
   "cell_type": "code",
   "execution_count": 33,
   "metadata": {
    "executionInfo": {
     "elapsed": 17,
     "status": "ok",
     "timestamp": 1708619683757,
     "user": {
      "displayName": "Gabriel Henrique Vasconcelos",
      "userId": "05872324079780801662"
     },
     "user_tz": 180
    },
    "id": "h8hFWWsirizs"
   },
   "outputs": [],
   "source": [
    "from sklearn.metrics import accuracy_score\n"
   ]
  },
  {
   "cell_type": "code",
   "execution_count": 34,
   "metadata": {
    "colab": {
     "base_uri": "https://localhost:8080/"
    },
    "executionInfo": {
     "elapsed": 17,
     "status": "ok",
     "timestamp": 1708619683758,
     "user": {
      "displayName": "Gabriel Henrique Vasconcelos",
      "userId": "05872324079780801662"
     },
     "user_tz": 180
    },
    "id": "61z0I6l9q_5K",
    "outputId": "be2b7966-9710-408f-9cf3-2a0d22471bbc"
   },
   "outputs": [
    {
     "data": {
      "text/plain": [
       "0.8331332533013205"
      ]
     },
     "execution_count": 34,
     "metadata": {},
     "output_type": "execute_result"
    }
   ],
   "source": [
    "clf.fit(X_train, y_train)\n",
    "y_pred = clf.predict(X_test)\n",
    "accuracy = accuracy_score(y_test, y_pred)\n",
    "accuracy"
   ]
  }
 ],
 "metadata": {
  "accelerator": "GPU",
  "colab": {
   "authorship_tag": "ABX9TyMhC637LA5neVwWtaKooMyw",
   "gpuType": "T4",
   "mount_file_id": "10r6grqDAB57HHatJMMwn5zQIjXkvx6f4",
   "provenance": []
  },
  "kernelspec": {
   "display_name": "base",
   "language": "python",
   "name": "python3"
  },
  "language_info": {
   "codemirror_mode": {
    "name": "ipython",
    "version": 3
   },
   "file_extension": ".py",
   "mimetype": "text/x-python",
   "name": "python",
   "nbconvert_exporter": "python",
   "pygments_lexer": "ipython3",
   "version": "3.11.7"
  }
 },
 "nbformat": 4,
 "nbformat_minor": 0
}
